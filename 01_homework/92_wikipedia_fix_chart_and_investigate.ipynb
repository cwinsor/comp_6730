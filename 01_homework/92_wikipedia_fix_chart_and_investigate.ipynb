{
 "cells": [
  {
   "cell_type": "code",
   "execution_count": 1,
   "metadata": {},
   "outputs": [],
   "source": [
    "import snap\n",
    "import numpy as np\n",
    "import matplotlib.pyplot as plt"
   ]
  },
  {
   "cell_type": "code",
   "execution_count": 17,
   "metadata": {},
   "outputs": [],
   "source": [
    "toy = False\n",
    "if (toy):\n",
    "    # create a graph PNGraph\n",
    "    G1 = snap.TNGraph.New()\n",
    "    G1.AddNode(101)\n",
    "    G1.AddNode(102)\n",
    "    G1.AddNode(103)\n",
    "\n",
    "    G1.AddEdge(101,102)\n",
    "    G1.AddEdge(102,101)\n",
    "    G1.AddEdge(101,103)\n",
    "    G1.AddEdge(101,101)\n",
    "else:\n",
    "    # load from text file\n",
    "    G1 = snap.LoadEdgeList(snap.TNGraph, \".\\datasets\\Wiki-Vote.txt\", 0, 1)"
   ]
  },
  {
   "cell_type": "code",
   "execution_count": 18,
   "metadata": {
    "scrolled": true
   },
   "outputs": [],
   "source": [
    "if (toy):  # don't run on a big network !\n",
    "        for node in G1.Nodes():\n",
    "            print(\"node: {}, degree {}, out-degree {}, in-degree {}\".format(node.GetId(), node.GetDeg(), node.GetOutDeg(), node.GetInDeg()))\n",
    "            for n in range(node.GetInDeg()):\n",
    "            print(\"  in  neighbor {} is node_id {}\".format(n, node.GetNbrNId(n)))\n",
    "        for n in range(node.GetOutDeg()):\n",
    "            print(\"  out neighbor {} is node_id {}\".format(n, node.GetNbrNId(n)))\n",
    "        for possible_neighbor in G1.Nodes():\n",
    "            pnid = possible_neighbor.GetId()\n",
    "            tf =  node.IsNbrNId(pnid)\n",
    "            print(\"  node {} is a neighbor = {}\".format(pnid, tf))"
   ]
  },
  {
   "cell_type": "code",
   "execution_count": 19,
   "metadata": {},
   "outputs": [],
   "source": [
    "if (toy):  # don't run on a big network !\n",
    "    for edge in G1.Edges():\n",
    "        print(\"edge {} src_node {} dst_node {}\".format(edge.GetId(), edge.GetSrcNId(), edge.GetDstNId()))"
   ]
  },
  {
   "cell_type": "code",
   "execution_count": 20,
   "metadata": {},
   "outputs": [],
   "source": [
    "def out_degree(node):\n",
    "    out_edges = set()\n",
    "    for id in node.GetOutEdges():\n",
    "        out_edges.add(id)\n",
    "\n",
    "    # in-degree, out-degree\n",
    "    out_degree = len(out_edges)\n",
    "    return out_degree"
   ]
  },
  {
   "cell_type": "code",
   "execution_count": 21,
   "metadata": {},
   "outputs": [],
   "source": [
    "# number of nodex vs out_degree\n",
    "x_count_x = {}\n",
    "\n",
    "for NI in G1.Nodes():\n",
    "    this_out_degree = NI.GetOutDeg()\n",
    "\n",
    "    this_out_degree = out_degree(NI)\n",
    "    if this_out_degree > 0:\n",
    "        if this_out_degree in x_count_x:\n",
    "            x_count_x[this_out_degree]+=1\n",
    "        else:\n",
    "            x_count_x[this_out_degree] = 1"
   ]
  },
  {
   "cell_type": "code",
   "execution_count": 22,
   "metadata": {},
   "outputs": [
    {
     "data": {
      "image/png": "[encoded data removed]",
      "text/plain": [
       "<Figure size 432x288 with 1 Axes>"
      ]
     },
     "metadata": {
      "needs_background": "light"
     },
     "output_type": "display_data"
    }
   ],
   "source": [
    "fig, ax1 = plt.subplots()\n",
    "# ax1.set_xscale(\"log\")\n",
    "# ax1.set_yscale(\"log\")\n",
    "# ax1.set_xlim(1e1, 1e3)\n",
    "# ax1.set_ylim(1e2, 1e3)\n",
    "# ax1.set_aspect(1)\n",
    "ax1.set_title(\"Whatever!\")\n",
    "\n",
    "plt.scatter(\n",
    "    x=x_count_x.keys(),\n",
    "    y=x_count_x.values(),\n",
    "    s=None,\n",
    "    c=None,\n",
    "    marker=None,\n",
    "    cmap=None,\n",
    "    norm=None,\n",
    "    vmin=None,\n",
    "    vmax=None,\n",
    "    alpha=None,\n",
    "    linewidths=None,\n",
    "    edgecolors=None,\n",
    "    plotnonfinite=False,\n",
    "    data=x_count_x)\n",
    "\n",
    "plt.show()\n",
    "\n",
    "\n",
    "\n"
   ]
  },
  {
   "cell_type": "code",
   "execution_count": null,
   "metadata": {},
   "outputs": [],
   "source": []
  }
 ],
 "metadata": {
  "interpreter": {
   "hash": "90eeb375a10a48a453b04bcedd1b651cba14cf1f99a958ec10e4360ffb0c987e"
  },
  "kernelspec": {
   "display_name": "Python 3.6.8 64-bit ('venv': venv)",
   "name": "python3"
  },
  "language_info": {
   "codemirror_mode": {
    "name": "ipython",
    "version": 3
   },
   "file_extension": ".py",
   "mimetype": "text/x-python",
   "name": "python",
   "nbconvert_exporter": "python",
   "pygments_lexer": "ipython3",
   "version": "3.6.8"
  }
 },
 "nbformat": 4,
 "nbformat_minor": 5
}
