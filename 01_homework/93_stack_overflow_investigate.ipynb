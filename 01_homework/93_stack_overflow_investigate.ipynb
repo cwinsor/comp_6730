{
 "cells": [
  {
   "cell_type": "code",
   "execution_count": 1,
   "metadata": {},
   "outputs": [],
   "source": [
    "import snap\n",
    "import numpy as np\n",
    "import scipy as cp"
   ]
  },
  {
   "cell_type": "code",
   "execution_count": 2,
   "metadata": {},
   "outputs": [],
   "source": [
    "toy = True\n",
    "if (toy):\n",
    "    # create a graph PNGraph\n",
    "    G5 = snap.TNGraph.New()\n",
    "    G5.AddNode(11)\n",
    "    G5.AddNode(12)\n",
    "    G5.AddNode(13)\n",
    "    G5.AddNode(14)\n",
    "    G5.AddNode(15)\n",
    "    G5.AddNode(16)\n",
    "    G5.AddNode(17)\n",
    "    G5.AddNode(18)\n",
    "    G5.AddNode(19)\n",
    "\n",
    "    G5.AddEdge(11,13)\n",
    "    G5.AddEdge(12,13)\n",
    "    G5.AddEdge(13,14)\n",
    "    G5.AddEdge(13,15)\n",
    "    G5.AddEdge(16,17)\n",
    "    G5.AddEdge(17,18)\n",
    "    G5.AddEdge(17,19)\n",
    "\n",
    "else:\n",
    "    # load from text file\n",
    "    G5 = snap.LoadEdgeList(snap.TNGraph, \"datasets\\stackoverflow-Java.txt\", 0, 1)"
   ]
  },
  {
   "cell_type": "code",
   "execution_count": null,
   "metadata": {},
   "outputs": [],
   "source": []
  }
 ],
 "metadata": {
  "interpreter": {
   "hash": "90eeb375a10a48a453b04bcedd1b651cba14cf1f99a958ec10e4360ffb0c987e"
  },
  "kernelspec": {
   "display_name": "Python 3.6.8 64-bit ('venv': venv)",
   "name": "python3"
  },
  "language_info": {
   "codemirror_mode": {
    "name": "ipython",
    "version": 3
   },
   "file_extension": ".py",
   "mimetype": "text/x-python",
   "name": "python",
   "nbconvert_exporter": "python",
   "pygments_lexer": "ipython3",
   "version": "3.6.8"
  },
  "orig_nbformat": 4
 },
 "nbformat": 4,
 "nbformat_minor": 2
}
