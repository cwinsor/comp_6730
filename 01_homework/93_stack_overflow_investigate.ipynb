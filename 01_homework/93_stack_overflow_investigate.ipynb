{
 "cells": [
  {
   "cell_type": "code",
   "execution_count": 1,
   "source": [
    "import snap\r\n",
    "import numpy as np\r\n",
    "import scipy as cp"
   ],
   "outputs": [],
   "metadata": {}
  },
  {
   "cell_type": "code",
   "execution_count": 2,
   "source": [
    "toy = True\r\n",
    "if (toy):\r\n",
    "    # create a graph PNGraph\r\n",
    "    G5 = snap.TNGraph.New()\r\n",
    "    G5.AddNode(11)\r\n",
    "    G5.AddNode(12)\r\n",
    "    G5.AddNode(13)\r\n",
    "    G5.AddNode(14)\r\n",
    "    G5.AddNode(15)\r\n",
    "    G5.AddNode(16)\r\n",
    "    G5.AddNode(17)\r\n",
    "    G5.AddNode(18)\r\n",
    "    G5.AddNode(19)\r\n",
    "\r\n",
    "    G5.AddEdge(11,13)\r\n",
    "    G5.AddEdge(12,13)\r\n",
    "    G5.AddEdge(13,14)\r\n",
    "    G5.AddEdge(13,15)\r\n",
    "    G5.AddEdge(16,17)\r\n",
    "    G5.AddEdge(17,18)\r\n",
    "    G5.AddEdge(17,19)\r\n",
    "\r\n",
    "else:\r\n",
    "    # load from text file\r\n",
    "    G5 = snap.LoadEdgeList(snap.TNGraph, \"datasets\\stackoverflow-Java.txt\", 0, 1)"
   ],
   "outputs": [],
   "metadata": {}
  },
  {
   "cell_type": "code",
   "execution_count": null,
   "source": [],
   "outputs": [],
   "metadata": {}
  }
 ],
 "metadata": {
  "orig_nbformat": 4,
  "language_info": {
   "name": "python",
   "version": "3.6.8",
   "mimetype": "text/x-python",
   "codemirror_mode": {
    "name": "ipython",
    "version": 3
   },
   "pygments_lexer": "ipython3",
   "nbconvert_exporter": "python",
   "file_extension": ".py"
  },
  "kernelspec": {
   "name": "python3",
   "display_name": "Python 3.6.8 64-bit ('venv': venv)"
  },
  "interpreter": {
   "hash": "90eeb375a10a48a453b04bcedd1b651cba14cf1f99a958ec10e4360ffb0c987e"
  }
 },
 "nbformat": 4,
 "nbformat_minor": 2
}